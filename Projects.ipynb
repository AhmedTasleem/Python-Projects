{
  "nbformat": 4,
  "nbformat_minor": 0,
  "metadata": {
    "colab": {
      "provenance": [],
      "authorship_tag": "ABX9TyOQjXfH4dV6tqBn6ppFUkUn",
      "include_colab_link": true
    },
    "kernelspec": {
      "name": "python3",
      "display_name": "Python 3"
    },
    "language_info": {
      "name": "python"
    }
  },
  "cells": [
    {
      "cell_type": "markdown",
      "metadata": {
        "id": "view-in-github",
        "colab_type": "text"
      },
      "source": [
        "<a href=\"https://colab.research.google.com/github/AhmedTasleem/Python-Projects/blob/main/Projects.ipynb\" target=\"_parent\"><img src=\"https://colab.research.google.com/assets/colab-badge.svg\" alt=\"Open In Colab\"/></a>"
      ]
    },
    {
      "cell_type": "markdown",
      "source": [
        "1. This is a simple text based rock-paper-scissor game"
      ],
      "metadata": {
        "id": "YFp3uYRKMYjV"
      }
    },
    {
      "cell_type": "code",
      "source": [
        "import random\n",
        "l=['Rock','Paper','Scissor']\n",
        "while True:\n",
        "  for i in range(0,len(l)):\n",
        "    print(f'Enter {i+1} :',l[i])\n",
        "    r=random.randint(0,3)\n",
        "\n",
        "  ch=int(input('enter your choices : '))\n",
        "  print('you :',l[ch-1])\n",
        "  print('computer :',l[r])\n",
        "  if l[ch-1]==l[r]:\n",
        "    print(\"'it's a draw\")\n",
        "  elif l[ch-1]=='Scissor' and l[r]=='paper':\n",
        "    print(\"you won\")\n",
        "  elif l[ch-1]=='Rock' and l[r]=='Scissor':\n",
        "    print(\"you won\")\n",
        "  elif l[ch-1]=='Rock' and l[r]=='paper':\n",
        "    print(\"you won\")\n",
        "  else:\n",
        "    print(\"better luck next time\")\n",
        "  a=input('do u want to play : ')\n",
        "  if a in ['y','Y','yes','YES','Yes']:\n",
        "    continue\n",
        "  else:\n",
        "    print('Thanks fo playing')\n",
        "    break"
      ],
      "metadata": {
        "colab": {
          "base_uri": "https://localhost:8080/",
          "height": 436
        },
        "id": "y8p8f5RUH7zM",
        "outputId": "91032073-92a3-45c6-d59f-653d10064063"
      },
      "execution_count": null,
      "outputs": [
        {
          "output_type": "stream",
          "name": "stdout",
          "text": [
            "Enter 1 : Rock\n",
            "Enter 2 : Paper\n",
            "Enter 3 : Scissor\n",
            "enter your choices : 2\n",
            "you : Paper\n",
            "computer : Rock\n",
            "better luck next time\n",
            "do u want to play : y\n",
            "Enter 1 : Rock\n",
            "Enter 2 : Paper\n",
            "Enter 3 : Scissor\n",
            "enter your choices : 2\n",
            "you : Paper\n"
          ]
        },
        {
          "output_type": "error",
          "ename": "IndexError",
          "evalue": "list index out of range",
          "traceback": [
            "\u001b[0;31m---------------------------------------------------------------------------\u001b[0m",
            "\u001b[0;31mIndexError\u001b[0m                                Traceback (most recent call last)",
            "\u001b[0;32m<ipython-input-52-9c30cd9ccb25>\u001b[0m in \u001b[0;36m<cell line: 3>\u001b[0;34m()\u001b[0m\n\u001b[1;32m      8\u001b[0m   \u001b[0mch\u001b[0m\u001b[0;34m=\u001b[0m\u001b[0mint\u001b[0m\u001b[0;34m(\u001b[0m\u001b[0minput\u001b[0m\u001b[0;34m(\u001b[0m\u001b[0;34m'enter your choices : '\u001b[0m\u001b[0;34m)\u001b[0m\u001b[0;34m)\u001b[0m\u001b[0;34m\u001b[0m\u001b[0;34m\u001b[0m\u001b[0m\n\u001b[1;32m      9\u001b[0m   \u001b[0mprint\u001b[0m\u001b[0;34m(\u001b[0m\u001b[0;34m'you :'\u001b[0m\u001b[0;34m,\u001b[0m\u001b[0ml\u001b[0m\u001b[0;34m[\u001b[0m\u001b[0mch\u001b[0m\u001b[0;34m-\u001b[0m\u001b[0;36m1\u001b[0m\u001b[0;34m]\u001b[0m\u001b[0;34m)\u001b[0m\u001b[0;34m\u001b[0m\u001b[0;34m\u001b[0m\u001b[0m\n\u001b[0;32m---> 10\u001b[0;31m   \u001b[0mprint\u001b[0m\u001b[0;34m(\u001b[0m\u001b[0;34m'computer :'\u001b[0m\u001b[0;34m,\u001b[0m\u001b[0ml\u001b[0m\u001b[0;34m[\u001b[0m\u001b[0mr\u001b[0m\u001b[0;34m]\u001b[0m\u001b[0;34m)\u001b[0m\u001b[0;34m\u001b[0m\u001b[0;34m\u001b[0m\u001b[0m\n\u001b[0m\u001b[1;32m     11\u001b[0m   \u001b[0;32mif\u001b[0m \u001b[0ml\u001b[0m\u001b[0;34m[\u001b[0m\u001b[0mch\u001b[0m\u001b[0;34m-\u001b[0m\u001b[0;36m1\u001b[0m\u001b[0;34m]\u001b[0m\u001b[0;34m==\u001b[0m\u001b[0ml\u001b[0m\u001b[0;34m[\u001b[0m\u001b[0mr\u001b[0m\u001b[0;34m]\u001b[0m\u001b[0;34m:\u001b[0m\u001b[0;34m\u001b[0m\u001b[0;34m\u001b[0m\u001b[0m\n\u001b[1;32m     12\u001b[0m     \u001b[0mprint\u001b[0m\u001b[0;34m(\u001b[0m\u001b[0;34m\"'it's a draw\"\u001b[0m\u001b[0;34m)\u001b[0m\u001b[0;34m\u001b[0m\u001b[0;34m\u001b[0m\u001b[0m\n",
            "\u001b[0;31mIndexError\u001b[0m: list index out of range"
          ]
        }
      ]
    },
    {
      "cell_type": "markdown",
      "source": [
        "Temperature Converter"
      ],
      "metadata": {
        "id": "QXpiviFlPuLt"
      }
    },
    {
      "cell_type": "code",
      "source": [
        "celsius = float(input(\"Enter temperature in Celsius: \"))\n",
        "fahrenheit = celsius * 9/5 + 32\n",
        "print(\"Temperature in Fahrenheit:\", fahrenheit)\n",
        "\n",
        "fahrenheit = float(input(\"Enter temperature in Fahrenheit: \"))\n",
        "celsius = (fahrenheit - 32) * 5/9\n",
        "print(\"Temperature in Celsius:\", int(celsius))"
      ],
      "metadata": {
        "id": "8h9rttWtP0tC",
        "colab": {
          "base_uri": "https://localhost:8080/"
        },
        "outputId": "2256f377-d8f5-4b8b-fc6b-3c68de82b24d"
      },
      "execution_count": null,
      "outputs": [
        {
          "output_type": "stream",
          "name": "stdout",
          "text": [
            "Enter temperature in Celsius: 36\n",
            "Temperature in Fahrenheit: 96.8\n",
            "Enter temperature in Fahrenheit: 96.8\n",
            "Temperature in Celsius: 36\n"
          ]
        }
      ]
    },
    {
      "cell_type": "markdown",
      "source": [
        "**Mini Calculator**"
      ],
      "metadata": {
        "id": "vVS9qt4w04HC"
      }
    },
    {
      "cell_type": "code",
      "source": [],
      "metadata": {
        "id": "_3NyB51d0-WA"
      },
      "execution_count": null,
      "outputs": []
    }
  ]
}